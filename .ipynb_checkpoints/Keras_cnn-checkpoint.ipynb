{
 "cells": [
  {
   "cell_type": "code",
   "execution_count": 2,
   "metadata": {
    "collapsed": false
   },
   "outputs": [
    {
     "name": "stderr",
     "output_type": "stream",
     "text": [
      "Using TensorFlow backend.\n"
     ]
    }
   ],
   "source": [
    "import keras\n",
    "from tensorflow.examples.tutorials.mnist import input_data\n",
    "import numpy as np"
   ]
  },
  {
   "cell_type": "code",
   "execution_count": 3,
   "metadata": {
    "collapsed": false
   },
   "outputs": [
    {
     "name": "stdout",
     "output_type": "stream",
     "text": [
      "Extracting MNIST_dataset\\train-images-idx3-ubyte.gz\n",
      "Extracting MNIST_dataset\\train-labels-idx1-ubyte.gz\n",
      "Extracting MNIST_dataset\\t10k-images-idx3-ubyte.gz\n",
      "Extracting MNIST_dataset\\t10k-labels-idx1-ubyte.gz\n"
     ]
    }
   ],
   "source": [
    "mnist_data = input_data.read_data_sets(\"MNIST_dataset\", one_hot=True)"
   ]
  },
  {
   "cell_type": "code",
   "execution_count": 12,
   "metadata": {
    "collapsed": true
   },
   "outputs": [],
   "source": [
    "from keras.layers import Dense, Conv2D, MaxPool2D, Flatten, Dropout, BatchNormalization\n",
    "from keras.models import Sequential"
   ]
  },
  {
   "cell_type": "code",
   "execution_count": 13,
   "metadata": {
    "collapsed": false
   },
   "outputs": [],
   "source": [
    "model = Sequential()\n",
    "model.add(Conv2D(32, 3, activation='relu', input_shape=[28, 28, 1]))\n",
    "model.add(MaxPool2D())\n",
    "model.add(BatchNormalization())\n",
    "model.add(Conv2D(64, 3, activation='relu'))\n",
    "model.add(MaxPool2D())\n",
    "model.add(BatchNormalization())\n",
    "model.add(Conv2D(128, 3, activation='relu'))\n",
    "model.add(MaxPool2D())\n",
    "model.add(BatchNormalization())\n",
    "model.add(Flatten())\n",
    "model.add(Dense(256, activation='relu'))\n",
    "model.add(Dense(10, activation='softmax'))"
   ]
  },
  {
   "cell_type": "code",
   "execution_count": 14,
   "metadata": {
    "collapsed": false
   },
   "outputs": [
    {
     "name": "stdout",
     "output_type": "stream",
     "text": [
      "_________________________________________________________________\n",
      "Layer (type)                 Output Shape              Param #   \n",
      "=================================================================\n",
      "conv2d_7 (Conv2D)            (None, 26, 26, 32)        320       \n",
      "_________________________________________________________________\n",
      "max_pooling2d_7 (MaxPooling2 (None, 13, 13, 32)        0         \n",
      "_________________________________________________________________\n",
      "batch_normalization_1 (Batch (None, 13, 13, 32)        128       \n",
      "_________________________________________________________________\n",
      "conv2d_8 (Conv2D)            (None, 11, 11, 64)        18496     \n",
      "_________________________________________________________________\n",
      "max_pooling2d_8 (MaxPooling2 (None, 5, 5, 64)          0         \n",
      "_________________________________________________________________\n",
      "batch_normalization_2 (Batch (None, 5, 5, 64)          256       \n",
      "_________________________________________________________________\n",
      "conv2d_9 (Conv2D)            (None, 3, 3, 128)         73856     \n",
      "_________________________________________________________________\n",
      "max_pooling2d_9 (MaxPooling2 (None, 1, 1, 128)         0         \n",
      "_________________________________________________________________\n",
      "batch_normalization_3 (Batch (None, 1, 1, 128)         512       \n",
      "_________________________________________________________________\n",
      "flatten_3 (Flatten)          (None, 128)               0         \n",
      "_________________________________________________________________\n",
      "dense_5 (Dense)              (None, 256)               33024     \n",
      "_________________________________________________________________\n",
      "dense_6 (Dense)              (None, 10)                2570      \n",
      "=================================================================\n",
      "Total params: 129,162\n",
      "Trainable params: 128,714\n",
      "Non-trainable params: 448\n",
      "_________________________________________________________________\n"
     ]
    }
   ],
   "source": [
    "model.summary()"
   ]
  },
  {
   "cell_type": "code",
   "execution_count": 15,
   "metadata": {
    "collapsed": true
   },
   "outputs": [],
   "source": [
    "model.compile(optimizer='adam', loss='categorical_crossentropy', metrics=['accuracy'])"
   ]
  },
  {
   "cell_type": "code",
   "execution_count": 16,
   "metadata": {
    "collapsed": false
   },
   "outputs": [
    {
     "name": "stdout",
     "output_type": "stream",
     "text": [
      "Train on 55000 samples, validate on 10000 samples\n",
      "Epoch 1/20\n",
      "55000/55000 [==============================] - 8s - loss: 0.1232 - acc: 0.9621 - val_loss: 0.0573 - val_acc: 0.9849\n",
      "Epoch 2/20\n",
      "55000/55000 [==============================] - 7s - loss: 0.0484 - acc: 0.9848 - val_loss: 0.0480 - val_acc: 0.9857\n",
      "Epoch 3/20\n",
      "55000/55000 [==============================] - 7s - loss: 0.0359 - acc: 0.9880 - val_loss: 0.0655 - val_acc: 0.9815\n",
      "Epoch 4/20\n",
      "55000/55000 [==============================] - 8s - loss: 0.0290 - acc: 0.9903 - val_loss: 0.0714 - val_acc: 0.9800\n",
      "Epoch 5/20\n",
      "55000/55000 [==============================] - 7s - loss: 0.0220 - acc: 0.9928 - val_loss: 0.0548 - val_acc: 0.9837\n",
      "Epoch 6/20\n",
      "55000/55000 [==============================] - 7s - loss: 0.0213 - acc: 0.9930 - val_loss: 0.0490 - val_acc: 0.9872\n",
      "Epoch 7/20\n",
      "55000/55000 [==============================] - 7s - loss: 0.0173 - acc: 0.9941 - val_loss: 0.0519 - val_acc: 0.9867\n",
      "Epoch 8/20\n",
      "55000/55000 [==============================] - 8s - loss: 0.0137 - acc: 0.9955 - val_loss: 0.0630 - val_acc: 0.9831\n",
      "Epoch 9/20\n",
      "55000/55000 [==============================] - 8s - loss: 0.0164 - acc: 0.9945 - val_loss: 0.0552 - val_acc: 0.9865\n",
      "Epoch 10/20\n",
      "55000/55000 [==============================] - 8s - loss: 0.0113 - acc: 0.9965 - val_loss: 0.0422 - val_acc: 0.9902\n",
      "Epoch 11/20\n",
      "55000/55000 [==============================] - 8s - loss: 0.0112 - acc: 0.9964 - val_loss: 0.0639 - val_acc: 0.9858\n",
      "Epoch 12/20\n",
      "55000/55000 [==============================] - 7s - loss: 0.0118 - acc: 0.9962 - val_loss: 0.0634 - val_acc: 0.9869\n",
      "Epoch 13/20\n",
      "55000/55000 [==============================] - 8s - loss: 0.0102 - acc: 0.9967 - val_loss: 0.0529 - val_acc: 0.9895\n",
      "Epoch 14/20\n",
      "55000/55000 [==============================] - 7s - loss: 0.0100 - acc: 0.9966 - val_loss: 0.0961 - val_acc: 0.9796\n",
      "Epoch 15/20\n",
      "55000/55000 [==============================] - 8s - loss: 0.0085 - acc: 0.9975 - val_loss: 0.0572 - val_acc: 0.9881\n",
      "Epoch 16/20\n",
      "55000/55000 [==============================] - 7s - loss: 0.0079 - acc: 0.9974 - val_loss: 0.0734 - val_acc: 0.9851\n",
      "Epoch 17/20\n",
      "55000/55000 [==============================] - 8s - loss: 0.0089 - acc: 0.9971 - val_loss: 0.0660 - val_acc: 0.9873\n",
      "Epoch 18/20\n",
      "55000/55000 [==============================] - 8s - loss: 0.0073 - acc: 0.9978 - val_loss: 0.0638 - val_acc: 0.9878\n",
      "Epoch 19/20\n",
      "55000/55000 [==============================] - 7s - loss: 0.0064 - acc: 0.9980 - val_loss: 0.0568 - val_acc: 0.9886\n",
      "Epoch 20/20\n",
      "55000/55000 [==============================] - 8s - loss: 0.0089 - acc: 0.9972 - val_loss: 0.0686 - val_acc: 0.9874\n"
     ]
    },
    {
     "data": {
      "text/plain": [
       "<keras.callbacks.History at 0x2130b1eae80>"
      ]
     },
     "execution_count": 16,
     "metadata": {},
     "output_type": "execute_result"
    }
   ],
   "source": [
    "epochs = 20\n",
    "train = mnist_data.train.images\n",
    "train_images = np.reshape(train, (-1, 28, 28, 1))\n",
    "test = mnist_data.test.images\n",
    "test_images = np.reshape(test, (-1, 28, 28, 1))\n",
    "model.fit(train_images, mnist_data.train.labels, \n",
    "          validation_data=(test_images, mnist_data.test.labels),\n",
    "          epochs=epochs, batch_size=64, verbose=1)"
   ]
  }
 ],
 "metadata": {
  "kernelspec": {
   "display_name": "Python 3",
   "language": "python",
   "name": "python3"
  },
  "language_info": {
   "codemirror_mode": {
    "name": "ipython",
    "version": 3
   },
   "file_extension": ".py",
   "mimetype": "text/x-python",
   "name": "python",
   "nbconvert_exporter": "python",
   "pygments_lexer": "ipython3",
   "version": "3.5.3"
  }
 },
 "nbformat": 4,
 "nbformat_minor": 0
}
