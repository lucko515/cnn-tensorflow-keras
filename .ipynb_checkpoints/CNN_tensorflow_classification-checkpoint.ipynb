{
 "cells": [
  {
   "cell_type": "markdown",
   "metadata": {},
   "source": [
    "The dataset used in this notebook is MNIST dataset, you can download it using built in TensorFlow functions."
   ]
  },
  {
   "cell_type": "code",
   "execution_count": 1,
   "metadata": {
    "collapsed": true
   },
   "outputs": [],
   "source": [
    "import tensorflow as tf\n",
    "from tensorflow.examples.tutorials.mnist import input_data\n",
    "import numpy as np\n",
    "import time\n",
    "from tqdm import tqdm"
   ]
  },
  {
   "cell_type": "markdown",
   "metadata": {},
   "source": [
    "Downloading the MNIST dataset."
   ]
  },
  {
   "cell_type": "code",
   "execution_count": 2,
   "metadata": {
    "collapsed": false
   },
   "outputs": [
    {
     "name": "stdout",
     "output_type": "stream",
     "text": [
      "Extracting MNIST_dataset\\train-images-idx3-ubyte.gz\n",
      "Extracting MNIST_dataset\\train-labels-idx1-ubyte.gz\n",
      "Extracting MNIST_dataset\\t10k-images-idx3-ubyte.gz\n",
      "Extracting MNIST_dataset\\t10k-labels-idx1-ubyte.gz\n"
     ]
    }
   ],
   "source": [
    "mnist_data = input_data.read_data_sets(\"MNIST_dataset\", one_hot=True)"
   ]
  },
  {
   "cell_type": "markdown",
   "metadata": {},
   "source": [
    "### Helper functions"
   ]
  },
  {
   "cell_type": "code",
   "execution_count": 1,
   "metadata": {
    "collapsed": true
   },
   "outputs": [],
   "source": [
    "def weights_init(shape):\n",
    "    '''\n",
    "    This function is used when weights are initialized.\n",
    "    \n",
    "    Input: shape - list of int numbers which are representing dimensions of our weights.\n",
    "    '''\n",
    "    return tf.Variable(tf.truncated_normal(shape, stddev=0.05))"
   ]
  },
  {
   "cell_type": "code",
   "execution_count": 4,
   "metadata": {
    "collapsed": true
   },
   "outputs": [],
   "source": [
    "def bias_init(shape):\n",
    "    '''\n",
    "    This function is used when biases are initialized.\n",
    "    \n",
    "    Input: shape - scalar that represents length of bias vector for particular layer in a network.\n",
    "    '''\n",
    "    return tf.Variable(tf.constant(0.05, shape=shape))"
   ]
  },
  {
   "cell_type": "code",
   "execution_count": 5,
   "metadata": {
    "collapsed": true
   },
   "outputs": [],
   "source": [
    "def conv2d_custom(input, filter_size, number_of_channels, number_of_filters, strides=(1, 1), padding='SAME', \n",
    "                  activation=tf.nn.relu, max_pool=True):\n",
    "    \n",
    "    '''\n",
    "    This function is used to create single convolution layer in a CNN network.\n",
    "    \n",
    "    Inputs: input\n",
    "            filter_size - int value that represents width and height for kernel used in this layer.\n",
    "            number_of_channels - number of channels that INPUT to this layer has.\n",
    "            number_of_filters - how many filters in our output do we want, this is going to be number of channels of this layer\n",
    "                                and this number is used as a number of channels for the next layer.\n",
    "            strides - how many pixels filter/kernel is going to move per time.\n",
    "            paddign - if its needed we pad image with zeros. \"SAME\" = output has same dimensions as an input, \"VALID\" - this is\n",
    "                      another option for padding parameter.\n",
    "            activation - which activation/if any this layer will use\n",
    "            max_pool - if True output height and width will be half sized the input size.  \n",
    "    '''\n",
    "    \n",
    "    weights = weights_init([filter_size, filter_size, number_of_channels, number_of_filters])\n",
    "    biases = bias_init([number_of_filters])\n",
    "    \n",
    "    layer = tf.nn.conv2d(input, filter=weights, strides=[1, strides[0], strides[1], 1], padding=padding) + biases\n",
    "    layer = activation(layer) \n",
    "    \n",
    "    if max_pool:\n",
    "        layer = tf.nn.max_pool(layer, ksize=[1, 2, 2, 1], strides=[1, 2, 2, 1], padding='SAME')\n",
    "    \n",
    "    return layer "
   ]
  },
  {
   "cell_type": "code",
   "execution_count": 6,
   "metadata": {
    "collapsed": true
   },
   "outputs": [],
   "source": [
    "def flatten(layer):\n",
    "    '''\n",
    "    This function should be used AFTER last conv layer in a network.\n",
    "    \n",
    "    This function will take LAYER as an input and output flattend layer. This should be done so we can use fc layer afterwards. \n",
    "    '''\n",
    "    shape = layer.get_shape()\n",
    "    num_of_elements = shape[1:4].num_elements()\n",
    "    reshaped = tf.reshape(layer, [-1, num_of_elements])\n",
    "    return reshaped, num_of_elements "
   ]
  },
  {
   "cell_type": "code",
   "execution_count": 7,
   "metadata": {
    "collapsed": true
   },
   "outputs": [],
   "source": [
    "def fully_connected_layer(input, input_shape, output_shape, activation=tf.nn.relu, dropout=None):\n",
    "    '''\n",
    "    This function is used to create single fully connected layer in a network.\n",
    "    \n",
    "    Inputs: input\n",
    "            intput_shape - number of \"neurons\" of the input to this layer\n",
    "            output_shape - number of \"neurons\" that we want to have in this layer\n",
    "            activation - which activation/if any this layer will use\n",
    "            dropout - if this is NOT None but some number, we are going to, randomly, turn off neurons in this layer.\n",
    "    '''\n",
    "    \n",
    "    weights = weights_init([input_shape, output_shape])\n",
    "    biases = bias_init([output_shape])\n",
    "    \n",
    "    layer = tf.matmul(input, weights) + biases\n",
    "    \n",
    "    if activation != None:\n",
    "        layer = activation(layer)\n",
    "        \n",
    "    if dropout != None:\n",
    "        layer = tf.nn.dropout(layer, dropout)\n",
    "        \n",
    "    return layer"
   ]
  },
  {
   "cell_type": "code",
   "execution_count": 8,
   "metadata": {
    "collapsed": true
   },
   "outputs": [],
   "source": [
    "#Creating inputs to our network graph\n",
    "inputs = tf.placeholder(tf.float32, shape=[None, 28, 28, 1], name=\"Inputs\")\n",
    "targets = tf.placeholder(tf.float32, shape=[None, 10], name=\"Targets\")\n",
    "y_true = tf.argmax(targets, 1)"
   ]
  },
  {
   "cell_type": "markdown",
   "metadata": {},
   "source": [
    "## Defining custom tensroflow CNN network"
   ]
  },
  {
   "cell_type": "code",
   "execution_count": 9,
   "metadata": {
    "collapsed": false
   },
   "outputs": [],
   "source": [
    "#This is where it comes together by using all of our helper functions\n",
    "conv_1 = conv2d_custom(inputs, 5, 1, 16)\n",
    "conv_2 = conv2d_custom(conv_1, 5, 16, 32)\n",
    "conv_3 = conv2d_custom(conv_2, 5, 32, 64)\n",
    "flat_layer, num_elements = flatten(conv_3)\n",
    "fc_1 = fully_connected_layer(flat_layer, num_elements, 128)\n",
    "logits = fully_connected_layer(fc_1, 128, 10, activation=None)"
   ]
  },
  {
   "cell_type": "code",
   "execution_count": 10,
   "metadata": {
    "collapsed": true
   },
   "outputs": [],
   "source": [
    "#For testing\n",
    "predictions = tf.nn.softmax(logits)"
   ]
  },
  {
   "cell_type": "code",
   "execution_count": 11,
   "metadata": {
    "collapsed": false
   },
   "outputs": [],
   "source": [
    "y_pred_cls = tf.argmax(predictions, 1)"
   ]
  },
  {
   "cell_type": "code",
   "execution_count": 12,
   "metadata": {
    "collapsed": true
   },
   "outputs": [],
   "source": [
    "#Calculating cross entropy loss function and we are using Adam optimizer to optimize our network over time.\n",
    "cost = tf.reduce_mean(tf.nn.softmax_cross_entropy_with_logits(logits=logits, labels=targets))\n",
    "optimizer = tf.train.AdamOptimizer(0.0001).minimize(cost)"
   ]
  },
  {
   "cell_type": "code",
   "execution_count": 13,
   "metadata": {
    "collapsed": false
   },
   "outputs": [],
   "source": [
    "#These two lines are used to get accuracy for our model\n",
    "correct_prediction = tf.equal(y_pred_cls, y_true)\n",
    "accuracy = tf.reduce_mean(tf.cast(correct_prediction, tf.float32))"
   ]
  },
  {
   "cell_type": "markdown",
   "metadata": {},
   "source": [
    "### Training time"
   ]
  },
  {
   "cell_type": "code",
   "execution_count": 14,
   "metadata": {
    "collapsed": true
   },
   "outputs": [],
   "source": [
    "session = tf.Session()"
   ]
  },
  {
   "cell_type": "code",
   "execution_count": 15,
   "metadata": {
    "collapsed": true
   },
   "outputs": [],
   "source": [
    "session.run(tf.global_variables_initializer())"
   ]
  },
  {
   "cell_type": "code",
   "execution_count": 16,
   "metadata": {
    "collapsed": true
   },
   "outputs": [],
   "source": [
    "batch_size = 32\n",
    "\n",
    "total_number_trained = 0\n",
    "epochs = 30\n",
    "def optmizer():\n",
    "\n",
    "    for i in (range(epochs)):\n",
    "        epoch_loss = []\n",
    "        for ii in range(mnist_data.train.num_examples//batch_size):\n",
    "            batch = mnist_data.train.next_batch(batch_size)\n",
    "            imgs = batch[0].reshape((-1, 28, 28, 1))\n",
    "            labs = batch[1]\n",
    "\n",
    "            dict_input = {inputs:imgs, targets:labs}\n",
    "\n",
    "            c, _ = session.run([cost, optimizer], feed_dict=dict_input)\n",
    "            epoch_loss.append(c)\n",
    "        print(\"Epoche: {}/{}\".format(i, epochs), \"| Training accuracy: \", session.run(accuracy, feed_dict=dict_input), \n",
    "              \"| Cost: {}\".format(np.mean(epoch_loss)))"
   ]
  },
  {
   "cell_type": "code",
   "execution_count": 17,
   "metadata": {
    "collapsed": false
   },
   "outputs": [],
   "source": [
    "def validation_test_model():\n",
    "    return session.run(accuracy, feed_dict={inputs: mnist_data.validation.images.reshape((-1, 28, 28, 1)), \n",
    "                                targets: mnist_data.validation.labels})"
   ]
  },
  {
   "cell_type": "code",
   "execution_count": 18,
   "metadata": {
    "collapsed": false
   },
   "outputs": [],
   "source": [
    "def test_model():\n",
    "    return session.run(accuracy, feed_dict={inputs: mnist_data.test.images.reshape((-1, 28, 28, 1)), \n",
    "                                targets: mnist_data.test.labels})"
   ]
  },
  {
   "cell_type": "code",
   "execution_count": 19,
   "metadata": {
    "collapsed": false
   },
   "outputs": [
    {
     "name": "stdout",
     "output_type": "stream",
     "text": [
      "Epoche: 0/30 | Training accuracy:  0.90625 | Cost: 0.4803403615951538\n",
      "Epoche: 1/30 | Training accuracy:  1.0 | Cost: 0.128943532705307\n",
      "Epoche: 2/30 | Training accuracy:  0.96875 | Cost: 0.08758621662855148\n",
      "Epoche: 3/30 | Training accuracy:  0.9375 | Cost: 0.06963570415973663\n",
      "Epoche: 4/30 | Training accuracy:  0.9375 | Cost: 0.05545980855822563\n",
      "Epoche: 5/30 | Training accuracy:  0.96875 | Cost: 0.048122383654117584\n",
      "Epoche: 6/30 | Training accuracy:  1.0 | Cost: 0.04101862758398056\n",
      "Epoche: 7/30 | Training accuracy:  0.96875 | Cost: 0.03579677641391754\n",
      "Epoche: 8/30 | Training accuracy:  1.0 | Cost: 0.032284174114465714\n",
      "Epoche: 9/30 | Training accuracy:  1.0 | Cost: 0.027367712929844856\n",
      "Epoche: 10/30 | Training accuracy:  1.0 | Cost: 0.02478650026023388\n",
      "Epoche: 11/30 | Training accuracy:  1.0 | Cost: 0.021172132343053818\n",
      "Epoche: 12/30 | Training accuracy:  1.0 | Cost: 0.01855609007179737\n",
      "Epoche: 13/30 | Training accuracy:  1.0 | Cost: 0.016779042780399323\n",
      "Epoche: 14/30 | Training accuracy:  1.0 | Cost: 0.015162467956542969\n",
      "Epoche: 15/30 | Training accuracy:  1.0 | Cost: 0.013082101941108704\n",
      "Epoche: 16/30 | Training accuracy:  1.0 | Cost: 0.011926155537366867\n",
      "Epoche: 17/30 | Training accuracy:  1.0 | Cost: 0.010639813728630543\n",
      "Epoche: 18/30 | Training accuracy:  1.0 | Cost: 0.008987096138298512\n",
      "Epoche: 19/30 | Training accuracy:  1.0 | Cost: 0.008615795522928238\n",
      "Epoche: 20/30 | Training accuracy:  1.0 | Cost: 0.007106544449925423\n",
      "Epoche: 21/30 | Training accuracy:  1.0 | Cost: 0.007273954804986715\n",
      "Epoche: 22/30 | Training accuracy:  1.0 | Cost: 0.0060111647471785545\n",
      "Epoche: 23/30 | Training accuracy:  1.0 | Cost: 0.0048314956948161125\n",
      "Epoche: 24/30 | Training accuracy:  1.0 | Cost: 0.005561457015573978\n",
      "Epoche: 25/30 | Training accuracy:  1.0 | Cost: 0.004147430881857872\n",
      "Epoche: 26/30 | Training accuracy:  1.0 | Cost: 0.005118831992149353\n",
      "Epoche: 27/30 | Training accuracy:  1.0 | Cost: 0.004118102136999369\n",
      "Epoche: 28/30 | Training accuracy:  1.0 | Cost: 0.0037973716389387846\n",
      "Epoche: 29/30 | Training accuracy:  1.0 | Cost: 0.002951352158561349\n"
     ]
    }
   ],
   "source": [
    "optmizer()"
   ]
  },
  {
   "cell_type": "code",
   "execution_count": 20,
   "metadata": {
    "collapsed": false
   },
   "outputs": [
    {
     "name": "stdout",
     "output_type": "stream",
     "text": [
      "Accuracy on the validation set 0.9919997453689575\n"
     ]
    }
   ],
   "source": [
    "print(\"Accuracy on the validation set {}\".format(validation_test_model()))"
   ]
  },
  {
   "cell_type": "code",
   "execution_count": 21,
   "metadata": {
    "collapsed": false
   },
   "outputs": [
    {
     "name": "stdout",
     "output_type": "stream",
     "text": [
      "Accuracy on the test set 0.9916001558303833\n"
     ]
    }
   ],
   "source": [
    "print(\"Accuracy on the test set {}\".format(test_model()))"
   ]
  }
 ],
 "metadata": {
  "kernelspec": {
   "display_name": "Python 3",
   "language": "python",
   "name": "python3"
  },
  "language_info": {
   "codemirror_mode": {
    "name": "ipython",
    "version": 3
   },
   "file_extension": ".py",
   "mimetype": "text/x-python",
   "name": "python",
   "nbconvert_exporter": "python",
   "pygments_lexer": "ipython3",
   "version": "3.5.3"
  }
 },
 "nbformat": 4,
 "nbformat_minor": 0
}
